{
 "cells": [
  {
   "cell_type": "code",
   "execution_count": 4,
   "metadata": {},
   "outputs": [
    {
     "name": "stdout",
     "output_type": "stream",
     "text": [
      "                                                            \n",
      "                                                            \n",
      "                                                            \n",
      "                DSC106lov           DSC106lov               \n",
      "            oveDSC106loveDSC1   oveDSC106loveDSC1           \n",
      "          loveDSC106loveDSC106loveDSC106loveDSC106l         \n",
      "         loveDSC106loveDSC106loveDSC106loveDSC106lov        \n",
      "        loveDSC106loveDSC106loveDSC106loveDSC106loveD       \n",
      "        oveDSC106loveDSC106loveDSC106loveDSC106loveDS       \n",
      "        veDSC106loveDSC106loveDSC106loveDSC106loveDSC       \n",
      "        eDSC106loveDSC106loveDSC106loveDSC106loveDSC1       \n",
      "        DSC106loveDSC106loveDSC106loveDSC106loveDSC10       \n",
      "        SC106loveDSC106loveDSC106loveDSC106loveDSC106       \n",
      "         106loveDSC106loveDSC106loveDSC106loveDSC106        \n",
      "          6loveDSC106loveDSC106loveDSC106loveDSC106         \n",
      "          loveDSC106loveDSC106loveDSC106loveDSC106l         \n",
      "            eDSC106loveDSC106loveDSC106loveDSC106           \n",
      "             SC106loveDSC106loveDSC106loveDSC106            \n",
      "              106loveDSC106loveDSC106loveDSC106             \n",
      "                loveDSC106loveDSC106loveDSC10               \n",
      "                  eDSC106loveDSC106loveDSC1                 \n",
      "                    C106loveDSC106loveDSC                   \n",
      "                       loveDSC106loveD                      \n",
      "                          DSC106lov                         \n",
      "                             06l                            \n",
      "                              l                             \n",
      "                                                            \n",
      "                                                            \n",
      "                                                            \n",
      "                                                            \n"
     ]
    }
   ],
   "source": [
    "print('\\n'.join([''.join([('loveDSC106'[(x-y)%10]if((x*0.05)**2+(y*0.1)**2-1)**3-(x*0.05)**2*(y*0.1)**3<=0 else \" \")for x in range(-30,30)])for y in range(15,-15,-1)]))"
   ]
  },
  {
   "cell_type": "code",
   "execution_count": null,
   "metadata": {},
   "outputs": [],
   "source": []
  }
 ],
 "metadata": {
  "kernelspec": {
   "display_name": "Python 3",
   "language": "python",
   "name": "python3"
  },
  "language_info": {
   "codemirror_mode": {
    "name": "ipython",
    "version": 3
   },
   "file_extension": ".py",
   "mimetype": "text/x-python",
   "name": "python",
   "nbconvert_exporter": "python",
   "pygments_lexer": "ipython3",
   "version": "3.6.4"
  }
 },
 "nbformat": 4,
 "nbformat_minor": 2
}
